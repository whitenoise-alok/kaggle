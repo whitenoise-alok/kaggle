{
 "cells": [
  {
   "cell_type": "code",
   "execution_count": 3,
   "id": "4e3811c5",
   "metadata": {},
   "outputs": [],
   "source": [
    "import boto3\n",
    "import botocore"
   ]
  },
  {
   "cell_type": "markdown",
   "id": "25b8798e",
   "metadata": {},
   "source": [
    "# One File ----> EC2    ===>    S3"
   ]
  },
  {
   "cell_type": "code",
   "execution_count": 4,
   "id": "462045ea",
   "metadata": {},
   "outputs": [],
   "source": [
    "source_ec2_loc = \"/data/packages/Anaconda3-2021.05-Linux-x86_64.sh\"\n",
    "\n",
    "\n",
    "s3 = boto3.client('s3')\n",
    "\n",
    "source_file = \"/data/packages/Anaconda3-2021.05-Linux-x86_64.sh\"\n",
    "bucket_name = 'kaggle-whitenoise'\n",
    "target_file = \"coleridge_initiative/Anaconda3-2021.05-Linux-x86_64.sh\"\n",
    "\n",
    "s3.upload_file(source_file, bucket_name, target_file)"
   ]
  },
  {
   "cell_type": "markdown",
   "id": "3e93948b",
   "metadata": {},
   "source": [
    "# One File ----> S3    ===>    EC2"
   ]
  },
  {
   "cell_type": "code",
   "execution_count": 6,
   "id": "13c8e8b9",
   "metadata": {},
   "outputs": [],
   "source": [
    "source_s3_loc = \"s3://kaggle-whitenoise/coleridge_initiative\"\n",
    "target_ec2_loc = \"/data/raw/kaggle/\"\n",
    "\n",
    "s3 = boto3.resource('s3')\n",
    "\n",
    "bucket_name = 'kaggle-whitenoise'\n",
    "source_file = \"coleridge_initiative/train.csv\"\n",
    "target_file = \"/data/packages/train.csv\"\n",
    "\n",
    "try:\n",
    "    s3.Bucket(bucket_name).download_file(source_file, target_file)\n",
    "except botocore.exceptions.ClientError as e:\n",
    "    if e.response['Error']['Code'] == \"404\":\n",
    "        print(\"The object does not exist.\")\n",
    "    else:\n",
    "        raise\n"
   ]
  }
 ],
 "metadata": {
  "kernelspec": {
   "display_name": "Python 3",
   "language": "python",
   "name": "python3"
  },
  "language_info": {
   "codemirror_mode": {
    "name": "ipython",
    "version": 3
   },
   "file_extension": ".py",
   "mimetype": "text/x-python",
   "name": "python",
   "nbconvert_exporter": "python",
   "pygments_lexer": "ipython3",
   "version": "3.6.9"
  }
 },
 "nbformat": 4,
 "nbformat_minor": 5
}
